{
  "cells": [
    {
      "metadata": {
        "trusted": true
      },
      "cell_type": "code",
      "source": "import numpy as np\nnp.random.seed(123) \nnp.random.binomial(100, 0.8)\n",
      "execution_count": 2,
      "outputs": [
        {
          "output_type": "execute_result",
          "execution_count": 2,
          "data": {
            "text/plain": "78"
          },
          "metadata": {}
        }
      ]
    },
    {
      "metadata": {
        "trusted": true
      },
      "cell_type": "code",
      "source": "Spark = np.random.binomial(100, 0.8)\nprint(Spark)\nLoops = np.random.binomial(100, 0.8)\nprint(Loops)",
      "execution_count": 4,
      "outputs": [
        {
          "output_type": "stream",
          "text": "83\n80\n",
          "name": "stdout"
        }
      ]
    },
    {
      "metadata": {
        "trusted": true
      },
      "cell_type": "code",
      "source": "iteration = []\nfor loop in range(500):\n    iteration.append(np.random.binomial(100, 0.8))\n    np_it = np.array(iteration)",
      "execution_count": 5,
      "outputs": []
    },
    {
      "metadata": {
        "trusted": true
      },
      "cell_type": "code",
      "source": "Horse = sum(np_it) / 500\nprint(Horse)",
      "execution_count": 6,
      "outputs": [
        {
          "output_type": "stream",
          "text": "80.062\n",
          "name": "stdout"
        }
      ]
    },
    {
      "metadata": {
        "trusted": true
      },
      "cell_type": "code",
      "source": "n = 10000\niteration_second = []\nfor loop in range(n):\n    iteration_second.append(np.random.binomial(3, 0.8))\n    np_it_second = np.array(iteration_second)\n    ",
      "execution_count": 8,
      "outputs": []
    },
    {
      "metadata": {
        "trusted": true
      },
      "cell_type": "code",
      "source": "value , counts = np.unique(np_it_second, return_counts = True)\nprint(value)\nprint(counts)",
      "execution_count": 9,
      "outputs": [
        {
          "output_type": "stream",
          "text": "[0 1 2 3]\n[  58  929 3946 5067]\n",
          "name": "stdout"
        }
      ]
    },
    {
      "metadata": {
        "trusted": true
      },
      "cell_type": "code",
      "source": "import matplotlib.pyplot as plt\n%matplotlib inline \nplt.bar(value , counts / 10000, align = 'center', alpha = 0.9) \nplt.xticks(value)\nplt.ylabel('Fraction')\nplt.title('Number of Penealties')\nplt.show()\n",
      "execution_count": 12,
      "outputs": [
        {
          "output_type": "display_data",
          "data": {
            "image/png": "[encoded data removed]",
            "text/plain": "<Figure size 432x288 with 1 Axes>"
          },
          "metadata": {
            "needs_background": "light"
          }
        }
      ]
    },
    {
      "metadata": {
        "trusted": true
      },
      "cell_type": "code",
      "source": "counts / 10000",
      "execution_count": 13,
      "outputs": [
        {
          "output_type": "execute_result",
          "execution_count": 13,
          "data": {
            "text/plain": "array([0.0058, 0.0929, 0.3946, 0.5067])"
          },
          "metadata": {}
        }
      ]
    },
    {
      "metadata": {
        "trusted": true
      },
      "cell_type": "code",
      "source": "# Practice \nnp.random.seed(123)\nCold = np.random.binomial(100, 0.8)\nColder = []\nfor ice in range(500):\n    Colder.append(np.random.binomial(100, 0.8))\n    Cream = np.array(Colder)\nBlaster = sum(Cream) / 500\nBlaster ",
      "execution_count": 15,
      "outputs": [
        {
          "output_type": "execute_result",
          "execution_count": 15,
          "data": {
            "text/plain": "80.068"
          },
          "metadata": {}
        }
      ]
    },
    {
      "metadata": {
        "trusted": true
      },
      "cell_type": "code",
      "source": "np.random.seed(123)\nFire = np.random.binomial(200, 0.4)\nFlame = []\nfor Red in range(1000):\n    Flame.append(np.random.binomial(200, 0.4))\n    Warm = np.array(Flame)\nSpring = sum(Warm) / 1000\nSpring",
      "execution_count": 18,
      "outputs": [
        {
          "output_type": "execute_result",
          "execution_count": 18,
          "data": {
            "text/plain": "79.823"
          },
          "metadata": {}
        }
      ]
    },
    {
      "metadata": {
        "trusted": true
      },
      "cell_type": "code",
      "source": "np.random.seed(123)\nDist = []\nfor Disting in range(2000):\n    Dist.append(np.random.binomial(300, 0.8))\n    Distance = np.array(Dist)\nFar = sum(Distance) / 2000\nFar ",
      "execution_count": 19,
      "outputs": [
        {
          "output_type": "execute_result",
          "execution_count": 19,
          "data": {
            "text/plain": "239.816"
          },
          "metadata": {}
        }
      ]
    },
    {
      "metadata": {
        "trusted": true
      },
      "cell_type": "code",
      "source": "np.random.seed(321)\nCalls = []\nfor call in range(300):\n    Calls.append(np.random.binomial(400, 0.3))\n    Pacer = np.array(Calls)\nPacers = sum(Pacer) / 300\nPacers ",
      "execution_count": 20,
      "outputs": [
        {
          "output_type": "execute_result",
          "execution_count": 20,
          "data": {
            "text/plain": "120.03666666666666"
          },
          "metadata": {}
        }
      ]
    },
    {
      "metadata": {
        "trusted": true
      },
      "cell_type": "code",
      "source": "Nums = 10000\nPlace = []\nfor dist in range(Nums):\n    Place.append(np.random.binomial(250, 0.2))\n    Called = np.array(Place)\nPlacer = sum(Called) / 10000\nPlacer",
      "execution_count": 22,
      "outputs": [
        {
          "output_type": "execute_result",
          "execution_count": 22,
          "data": {
            "text/plain": "50.0436"
          },
          "metadata": {}
        }
      ]
    },
    {
      "metadata": {
        "trusted": true
      },
      "cell_type": "code",
      "source": "values , banks = np.unique(Placer, return_counts = True)\nprint(values)\nprint(banks)\nplt.bar(values, banks / 10000, align = 'center', alpha = 0.9)\nplt.xticks(values)\nplt.ylabel('Water')\nplt.title('Drip or Drown')\nplt.show()",
      "execution_count": 27,
      "outputs": [
        {
          "output_type": "stream",
          "text": "[50.0436]\n[1]\n",
          "name": "stdout"
        },
        {
          "output_type": "display_data",
          "data": {
            "image/png": "[encoded data removed]",
            "text/plain": "<Figure size 432x288 with 1 Axes>"
          },
          "metadata": {
            "needs_background": "light"
          }
        }
      ]
    },
    {
      "metadata": {
        "trusted": true
      },
      "cell_type": "code",
      "source": "Sums = 10000\nVals = []\nfor overs in range(Sums):\n    Vals.append(np.random.binomial(100, 0.8))\n    Vist = np.array(Vals)\nClients = sum(Vist) / 10000\nClients \n    ",
      "execution_count": 28,
      "outputs": [
        {
          "output_type": "execute_result",
          "execution_count": 28,
          "data": {
            "text/plain": "80.0155"
          },
          "metadata": {}
        }
      ]
    },
    {
      "metadata": {
        "trusted": true
      },
      "cell_type": "code",
      "source": "Frost, Most = np.unique(Clients, return_counts = True)\nprint(Frost)\nprint(Most)\n",
      "execution_count": 29,
      "outputs": [
        {
          "output_type": "stream",
          "text": "[80.0155]\n[1]\n",
          "name": "stdout"
        }
      ]
    },
    {
      "metadata": {
        "trusted": true
      },
      "cell_type": "code",
      "source": "plt.bar(Frost, Most / 10000, align = 'center', alpha = 0.9)\nplt.xticks(Frost)\nplt.show()",
      "execution_count": 31,
      "outputs": [
        {
          "output_type": "display_data",
          "data": {
            "image/png": "[encoded data removed]",
            "text/plain": "<Figure size 432x288 with 1 Axes>"
          },
          "metadata": {
            "needs_background": "light"
          }
        }
      ]
    },
    {
      "metadata": {
        "trusted": true
      },
      "cell_type": "code",
      "source": "",
      "execution_count": null,
      "outputs": []
    }
  ],
  "metadata": {
    "kernelspec": {
      "name": "python36",
      "display_name": "Python 3.6",
      "language": "python"
    },
    "language_info": {
      "mimetype": "text/x-python",
      "nbconvert_exporter": "python",
      "name": "python",
      "pygments_lexer": "ipython3",
      "version": "3.6.6",
      "file_extension": ".py",
      "codemirror_mode": {
        "version": 3,
        "name": "ipython"
      }
    }
  },
  "nbformat": 4,
  "nbformat_minor": 2
}