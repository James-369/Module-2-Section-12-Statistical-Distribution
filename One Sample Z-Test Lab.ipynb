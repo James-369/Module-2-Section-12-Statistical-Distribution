{
  "cells": [
    {
      "metadata": {
        "trusted": true
      },
      "cell_type": "code",
      "source": "# Mean time order to eat at resturants with a standard deviation of 30 \n# After experiencing the actual event I find out that it takes 75 seconds\nimport math \nimport scipy.stats as stats \nmu = 60\nsigma = 30\nn = 36\nx_bar = 75 \nz = (x_bar - mu) / (sigma / math.sqrt(n))\nz\np_values = 1 - stats.norm.cdf(z)\np_values, z\n# After observing the values I can reject the null hypothesis due ot it being less than 0,05 \n",
      "execution_count": 2,
      "outputs": [
        {
          "output_type": "execute_result",
          "execution_count": 2,
          "data": {
            "text/plain": "(0.0013498980316301035, 3.0)"
          },
          "metadata": {}
        }
      ]
    },
    {
      "metadata": {
        "trusted": true
      },
      "cell_type": "code",
      "source": "# 25 prepare for SAT and the average score is 500 with a standard deviation of 100 \n# The preparation programs ensures that it will increase their score \nimport numpy as np\nx = np.array([434, 694, 457, 534, 720, 400, 484, 478, 610, 641, 425, 636, 454,\n514, 563, 370, 499, 640, 501, 625, 612, 471, 598, 509, 531])\nx_bar = x.mean()\nn = len(x)\nmu = 500\nsigma = 100\nz_score = (x_bar - mu) / (sigma / math.sqrt(n))\np_values = 1 - stats.norm.cdf(z_score)\np_values, z_score \n# Regarding exercise in reference to the p_value it is less than the assumed signifigance level \n# I can also say that the training does have some influence on their scores \n",
      "execution_count": 3,
      "outputs": [
        {
          "output_type": "execute_result",
          "execution_count": 3,
          "data": {
            "text/plain": "(0.03593031911292577, 1.8)"
          },
          "metadata": {}
        }
      ]
    },
    {
      "metadata": {
        "trusted": true
      },
      "cell_type": "code",
      "source": "",
      "execution_count": null,
      "outputs": []
    }
  ],
  "metadata": {
    "kernelspec": {
      "name": "python36",
      "display_name": "Python 3.6",
      "language": "python"
    },
    "language_info": {
      "mimetype": "text/x-python",
      "nbconvert_exporter": "python",
      "name": "python",
      "pygments_lexer": "ipython3",
      "version": "3.6.6",
      "file_extension": ".py",
      "codemirror_mode": {
        "version": 3,
        "name": "ipython"
      }
    }
  },
  "nbformat": 4,
  "nbformat_minor": 2
}