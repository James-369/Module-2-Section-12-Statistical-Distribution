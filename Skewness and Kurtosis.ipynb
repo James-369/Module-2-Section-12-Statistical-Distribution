{
  "cells": [
    {
      "metadata": {
        "trusted": true
      },
      "cell_type": "code",
      "source": "# Imported required libraries \nimport numpy as np\nimport matplotlib.pyplot as plt\nfrom scipy.stats import kurtosis, skew",
      "execution_count": 1,
      "outputs": [
        {
          "output_type": "stream",
          "text": "/home/nbuser/anaconda3_501/lib/python3.6/site-packages/matplotlib/font_manager.py:229: UserWarning: Matplotlib is building the font cache using fc-list. This may take a moment.\n  'Matplotlib is building the font cache using fc-list. '\n",
          "name": "stderr"
        }
      ]
    },
    {
      "metadata": {
        "trusted": true
      },
      "cell_type": "code",
      "source": "# Generating a random normal variable with 10000\nx_random = np.random.normal(0,2,10000)\n# Plotting a histogram\nplt.hist(x_random, bins = 'auto')\nprint(\"Skewness : \", skew(x_random))\nprint(\"Kurtosis : \", kurtosis(x_random))\n# The graph presents a normal distribution \n# There is a little more on the right and certainly displays a negative skewness \n# It displays no outliers ",
      "execution_count": 2,
      "outputs": [
        {
          "output_type": "stream",
          "text": "Skewness :  -0.012664940064528408\nKurtosis :  -0.0009453508524135401\n",
          "name": "stdout"
        },
        {
          "output_type": "display_data",
          "data": {
            "image/png": "[encoded data removed]",
            "text/plain": "<Figure size 432x288 with 1 Axes>"
          },
          "metadata": {
            "needs_background": "light"
          }
        }
      ]
    },
    {
      "metadata": {
        "trusted": true
      },
      "cell_type": "code",
      "source": "x = np.linspace(-5, 5, 10000)\ny = 1./(np.sqrt(2.*np.pi)) * np.exp(-.5 * (x) ** 2)\n# Plotting a histogram of y \nplt.hist(y, bins = 'auto')\nprint(\"Skewness : \", skew(y))\nprint(\"Kurtosis : \", kurtosis(y))\n# More values on the right and illustrates a positive skewness \n# It is not a normal distribution \n",
      "execution_count": 5,
      "outputs": [
        {
          "output_type": "stream",
          "text": "Skewness :  1.109511549276228\nKurtosis :  -0.31039027765889804\n",
          "name": "stdout"
        },
        {
          "output_type": "display_data",
          "data": {
            "image/png": "[encoded data removed]",
            "text/plain": "<Figure size 432x288 with 1 Axes>"
          },
          "metadata": {
            "needs_background": "light"
          }
        }
      ]
    },
    {
      "metadata": {
        "trusted": true
      },
      "cell_type": "code",
      "source": "",
      "execution_count": null,
      "outputs": []
    }
  ],
  "metadata": {
    "kernelspec": {
      "name": "python36",
      "display_name": "Python 3.6",
      "language": "python"
    },
    "language_info": {
      "mimetype": "text/x-python",
      "nbconvert_exporter": "python",
      "name": "python",
      "pygments_lexer": "ipython3",
      "version": "3.6.6",
      "file_extension": ".py",
      "codemirror_mode": {
        "version": 3,
        "name": "ipython"
      }
    }
  },
  "nbformat": 4,
  "nbformat_minor": 2
}