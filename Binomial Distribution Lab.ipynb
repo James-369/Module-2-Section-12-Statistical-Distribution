{
  "cells": [
    {
      "metadata": {
        "trusted": true
      },
      "cell_type": "code",
      "source": "def factorial(n):\n    prod = 1\n    while n >= 1:\n        prod = prod * n \n        n = n - 1\n    return prod \n",
      "execution_count": 1,
      "outputs": []
    },
    {
      "metadata": {
        "trusted": true
      },
      "cell_type": "code",
      "source": "p_3_strikes = (factorial(10) / (factorial(7) * factorial(3)) * (0.25) ** 3 * (0.75) ** 7)\np_3_strikes ",
      "execution_count": 2,
      "outputs": [
        {
          "output_type": "execute_result",
          "execution_count": 2,
          "data": {
            "text/plain": "0.25028228759765625"
          },
          "metadata": {}
        }
      ]
    },
    {
      "metadata": {
        "trusted": true
      },
      "cell_type": "code",
      "source": "def binom_distr(n,p,k):\n    p_k = (factorial(n) / (factorial(k)  * factorial(n - k))) * (p ** k * (1 - p) ** (n - k))\n    return p_k",
      "execution_count": 4,
      "outputs": []
    },
    {
      "metadata": {
        "trusted": true
      },
      "cell_type": "code",
      "source": "binom_distr(10, 0.25, 3)",
      "execution_count": 5,
      "outputs": [
        {
          "output_type": "execute_result",
          "execution_count": 5,
          "data": {
            "text/plain": "0.25028228759765625"
          },
          "metadata": {}
        }
      ]
    },
    {
      "metadata": {
        "trusted": true
      },
      "cell_type": "code",
      "source": "import numpy as np\nprob = 0 \nfor i in np.arange(5, 11):\n    prob += binom_distr(10, 0.25, i)\nprob ",
      "execution_count": 8,
      "outputs": [
        {
          "output_type": "execute_result",
          "execution_count": 8,
          "data": {
            "text/plain": "0.07812690734863281"
          },
          "metadata": {}
        }
      ]
    },
    {
      "metadata": {
        "trusted": true
      },
      "cell_type": "code",
      "source": "np.random.seed(123)\nn = 5000\niteration = []\nfor loop in range(n):\n    iteration.append(np.random.binomial(10, 0.25))\n    np_it = np.array(iteration)\nnp_it\n    ",
      "execution_count": 13,
      "outputs": [
        {
          "output_type": "execute_result",
          "execution_count": 13,
          "data": {
            "text/plain": "array([3, 2, 1, ..., 2, 5, 0])"
          },
          "metadata": {}
        }
      ]
    },
    {
      "metadata": {
        "trusted": true
      },
      "cell_type": "code",
      "source": "value, counts = np.unique(np_it , return_counts = True)\nprint(value)\nprint(counts)",
      "execution_count": 14,
      "outputs": [
        {
          "output_type": "stream",
          "text": "[0 1 2 3 4 5 6 7 8]\n[ 310  941 1368 1286  707  297   78   11    2]\n",
          "name": "stdout"
        }
      ]
    },
    {
      "metadata": {
        "trusted": true
      },
      "cell_type": "code",
      "source": "import matplotlib.pyplot as plt\n%matplotlib inline \nplt.bar(value, counts / 5000, align = 'center', alpha = 0.8)\nplt.xticks(value)\nplt.ylabel('Fraction')\nplt.title('PMF of strikes in a bowling game')\n",
      "execution_count": 16,
      "outputs": [
        {
          "output_type": "execute_result",
          "execution_count": 16,
          "data": {
            "text/plain": "Text(0.5, 1.0, 'PMF of strikes in a bowling game')"
          },
          "metadata": {}
        },
        {
          "output_type": "display_data",
          "data": {
            "image/png": "[encoded data removed]",
            "text/plain": "<Figure size 432x288 with 1 Axes>"
          },
          "metadata": {
            "needs_background": "light"
          }
        }
      ]
    },
    {
      "metadata": {
        "trusted": true
      },
      "cell_type": "code",
      "source": "",
      "execution_count": null,
      "outputs": []
    }
  ],
  "metadata": {
    "kernelspec": {
      "name": "python36",
      "display_name": "Python 3.6",
      "language": "python"
    },
    "language_info": {
      "mimetype": "text/x-python",
      "nbconvert_exporter": "python",
      "name": "python",
      "pygments_lexer": "ipython3",
      "version": "3.6.6",
      "file_extension": ".py",
      "codemirror_mode": {
        "version": 3,
        "name": "ipython"
      }
    }
  },
  "nbformat": 4,
  "nbformat_minor": 2
}