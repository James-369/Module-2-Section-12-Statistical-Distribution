{
  "cells": [
    {
      "metadata": {
        "trusted": true
      },
      "cell_type": "code",
      "source": "# Z-table in python\nimport scipy.stats as stats \n# Probabilites up to a Z Score of 1.5 \nprint(stats.norm.cdf(1.5))\n# Probabilites of a Z Score greater than 1.34\nprint(1 - stats.norm.cdf(1.34))",
      "execution_count": 1,
      "outputs": [
        {
          "output_type": "stream",
          "text": "0.9331927987311419\n0.09012267246445238\n",
          "name": "stdout"
        }
      ]
    },
    {
      "metadata": {
        "trusted": true
      },
      "cell_type": "code",
      "source": "import scipy.stats as stats \nprint(stats.norm.cdf(1.5))\nprint(1 - (stats.norm.cdf(.134)))",
      "execution_count": 2,
      "outputs": [
        {
          "output_type": "stream",
          "text": "0.9331927987311419\n0.44670128721754665\n",
          "name": "stdout"
        }
      ]
    },
    {
      "metadata": {
        "trusted": true
      },
      "cell_type": "code",
      "source": "import scipy.stats as stats \nprint(stats.norm.cdf(1.5))\nprint(1 - stats.norm.cdf(1.34))",
      "execution_count": 3,
      "outputs": [
        {
          "output_type": "stream",
          "text": "0.9331927987311419\n0.09012267246445238\n",
          "name": "stdout"
        }
      ]
    },
    {
      "metadata": {
        "trusted": true
      },
      "cell_type": "code",
      "source": "import scipy.stats as stats \nprint(stats.norm.cdf(1.5))\nprint(1 - stats.norm.cdf(1.34))",
      "execution_count": 4,
      "outputs": [
        {
          "output_type": "stream",
          "text": "0.9331927987311419\n0.09012267246445238\n",
          "name": "stdout"
        }
      ]
    },
    {
      "metadata": {
        "trusted": true
      },
      "cell_type": "code",
      "source": "import scipy.stats as stats \nprint(stats.norm.cdf(1.2))\nprint(1 - stats.norm.cdf(1.2))",
      "execution_count": 6,
      "outputs": [
        {
          "output_type": "stream",
          "text": "0.8849303297782918\n0.11506967022170822\n",
          "name": "stdout"
        }
      ]
    },
    {
      "metadata": {
        "trusted": true
      },
      "cell_type": "code",
      "source": "import scipy.stats as stats \nfrom math import sqrt \nx_bar = 103 \nn = 40\nsigma = 14 \nmu = 100\nzips = (x_bar - mu) / (sigma / sqrt(n))\nzips",
      "execution_count": 8,
      "outputs": [
        {
          "output_type": "execute_result",
          "execution_count": 8,
          "data": {
            "text/plain": "1.355261854357877"
          },
          "metadata": {}
        }
      ]
    },
    {
      "metadata": {
        "trusted": true
      },
      "cell_type": "code",
      "source": "import numpy as np\nimport matplotlib.pyplot as plt \n%matplotlib inline \n\nplt.style.use('seaborn')\nplt.fill_between(x = np.arange(-4, 1.19, 0.01),\n                y1 = stats.norm.pdf(x = np.arange(-4, 1.19, 0.01)),\n                facecolor = 'red',\n                alpha = 0.35,\n                label = 'Area above Z - Statistics')\nplt.fill_between(x = np.arange(1.19, 4, 0.01), \n                 y1 = stats.norm.pdf(x = np.arange(1.19,4,0.01)),\n                 facecolor = 'blue',\n                 alpha = 0.35,\n                 label = 'Area above Z - Statistics')\n\nplt.legend()\nplt.title('z-statistics = 1.19')\n",
      "execution_count": 12,
      "outputs": [
        {
          "output_type": "execute_result",
          "execution_count": 12,
          "data": {
            "text/plain": "Text(0.5, 1.0, 'z-statistics = 1.19')"
          },
          "metadata": {}
        },
        {
          "output_type": "display_data",
          "data": {
            "image/png": "[encoded data removed]",
            "text/plain": "<Figure size 576x396 with 1 Axes>"
          },
          "metadata": {}
        }
      ]
    },
    {
      "metadata": {
        "trusted": true
      },
      "cell_type": "code",
      "source": "stats.norm.cdf(zips)",
      "execution_count": 14,
      "outputs": [
        {
          "output_type": "execute_result",
          "execution_count": 14,
          "data": {
            "text/plain": "0.9123329281116996"
          },
          "metadata": {}
        }
      ]
    },
    {
      "metadata": {
        "trusted": true
      },
      "cell_type": "code",
      "source": "pval = 1 - stats.norm.cdf(zips)\npval",
      "execution_count": 16,
      "outputs": [
        {
          "output_type": "execute_result",
          "execution_count": 16,
          "data": {
            "text/plain": "0.08766707188830036"
          },
          "metadata": {}
        }
      ]
    },
    {
      "metadata": {
        "trusted": true
      },
      "cell_type": "code",
      "source": "",
      "execution_count": null,
      "outputs": []
    }
  ],
  "metadata": {
    "kernelspec": {
      "name": "python36",
      "display_name": "Python 3.6",
      "language": "python"
    },
    "language_info": {
      "mimetype": "text/x-python",
      "nbconvert_exporter": "python",
      "name": "python",
      "pygments_lexer": "ipython3",
      "version": "3.6.6",
      "file_extension": ".py",
      "codemirror_mode": {
        "version": 3,
        "name": "ipython"
      }
    }
  },
  "nbformat": 4,
  "nbformat_minor": 2
}